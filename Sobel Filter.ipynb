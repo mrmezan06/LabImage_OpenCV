{
 "cells": [
  {
   "cell_type": "code",
   "execution_count": 2,
   "id": "42c84d32",
   "metadata": {},
   "outputs": [],
   "source": [
    "import cv2\n",
    "import numpy as np"
   ]
  },
  {
   "cell_type": "code",
   "execution_count": 30,
   "id": "9e1295ce",
   "metadata": {},
   "outputs": [],
   "source": [
    "name1 = 'Mosta.jpg'\n",
    "name2 = 'building.jpg'\n",
    "name3 = 'VqWjH.png'\n",
    "\n",
    "frame = cv2.imread(name1)\n"
   ]
  },
  {
   "cell_type": "code",
   "execution_count": 31,
   "id": "f0a9cf2c",
   "metadata": {},
   "outputs": [],
   "source": [
    "# Convert to HSV for simpler calculations\n",
    "hsv = cv2.cvtColor(frame, cv2.COLOR_BGR2HSV)\n",
    "     \n",
    "    # Calculation of Sobelx\n",
    "sobelx = cv2.Sobel(frame,cv2.CV_64F,1,0,ksize=5)\n",
    "     \n",
    "    # Calculation of Sobely\n",
    "sobely = cv2.Sobel(frame,cv2.CV_64F,0,1,ksize=5)\n",
    "     \n",
    "    # Calculation of Laplacian\n",
    "laplacian = cv2.Laplacian(frame,cv2.CV_64F)"
   ]
  },
  {
   "cell_type": "code",
   "execution_count": 32,
   "id": "0538abb5",
   "metadata": {},
   "outputs": [],
   "source": [
    "cv2.imshow('sobelx',sobelx)\n",
    "cv2.imshow('sobely',sobely)\n",
    "cv2.imshow('laplacian',laplacian)\n",
    "cv2.waitKey(0) \n",
    "  \n",
    "#closing all open windows \n",
    "cv2.destroyAllWindows() \n"
   ]
  },
  {
   "cell_type": "code",
   "execution_count": null,
   "id": "5b994b19",
   "metadata": {},
   "outputs": [],
   "source": []
  },
  {
   "cell_type": "code",
   "execution_count": null,
   "id": "5acdacd3",
   "metadata": {},
   "outputs": [],
   "source": []
  }
 ],
 "metadata": {
  "kernelspec": {
   "display_name": "Python 3 (ipykernel)",
   "language": "python",
   "name": "python3"
  },
  "language_info": {
   "codemirror_mode": {
    "name": "ipython",
    "version": 3
   },
   "file_extension": ".py",
   "mimetype": "text/x-python",
   "name": "python",
   "nbconvert_exporter": "python",
   "pygments_lexer": "ipython3",
   "version": "3.8.12"
  }
 },
 "nbformat": 4,
 "nbformat_minor": 5
}
